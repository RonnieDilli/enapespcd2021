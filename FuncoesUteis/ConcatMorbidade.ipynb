{
 "cells": [
  {
   "cell_type": "markdown",
   "metadata": {},
   "source": [
    "# Concatenar o Dataset de Morbidade do SUS num só Dataframe\n",
    "### http://tabnet.datasus.gov.br/cgi/deftohtm.exe?sih/cnv/nibr.def"
   ]
  },
  {
   "cell_type": "code",
   "execution_count": 1,
   "metadata": {},
   "outputs": [],
   "source": [
    "# Importe as bibliotecas pandas, numpy, glob e sqlalchemy\n",
    "import pandas as pd\n",
    "import numpy as np\n"
   ]
  },
  {
   "cell_type": "code",
   "execution_count": 13,
   "metadata": {
    "nbgrader": {
     "grade": false,
     "grade_id": "cell-c705ab9d11473b9f9",
     "locked": false,
     "schema_version": 3,
     "solution": true,
     "task": false
    }
   },
   "outputs": [],
   "source": [
    "# Dica 1: Construa uma lista de arquivos presentes num diretório usando a função glob da biblioteca glob\n",
    "# Dica 2: Num loop, leia os arquivo duas vezes. Na primeira vez, pra carregar somente a parte desejada do cabeçalho,\n",
    "#         onde se encontra o mês/ano do respectivo arquivo, utilize o parâmetro nrows. Preste atenção ao separador \n",
    "#         dos arquivos CSV, é um ponto e vírgula.\n",
    "# Dica 3: O método split pode dividir uma string na posição de um caracter especificado.\n",
    "# Dica 4: Se quiser converter o nome do mês para o seu número, você precisa ajustar a configuração de locale\n",
    "#         do python para 'pt_BR'. Use o código a seguir para fazer esta operação.\n",
    "#            import locale\n",
    "#            locale.setlocale(locale.LC_ALL, 'pt_BR')\n",
    "# Dica 5: O código strptime(nome_mes,'%b').tm_mon converte nome do mês no seu respectivo número de 1 a 12\n",
    "# Dica 6: Para criar uma data a partir dos seus atributos use um código semelhante ao exemplo a seguir\n",
    "#            import datetime\n",
    "#            datetime.date(year=2020, month=1, day=1)\n",
    "# Dica 7: Para construir uma nova coluna aplicando uma regra para cada célula use a função apply e construa uma\n",
    "#         função lambda.\n",
    "# Dica 8: O método join de uma string consegue unir, com um caracter separador, o conteúdo de uma lista de \n",
    "#         elementos numa string. Exemplo: ' '.join(lista_exemplo), produz uma string concatenando com um espaçao\n",
    "#         os elementos da lista_exemplo. Pode ser útil para isolar o nome do município.\n",
    "# Dica 9: Adicione todos os dataframes construídos dentro do loop a uma lista e depois use o método concat para \n",
    "#         concatenar os dataframes verticalmente. Use o parâmetro ignore_index=True para ignorar o índice dos \n",
    "#         dataframes.\n",
    "\n",
    "def concat_morbidade(files_path):\n",
    "    \"\"\"Retorne um dataframe com a concatenação vertical dos dados dos arquivos do diretorio dir_path\n",
    "    \"\"\"\n",
    "    ### BEGIN SOLUTION\n",
    "    import glob\n",
    "    from time import strptime\n",
    "    import datetime\n",
    "    import locale\n",
    "    locale.setlocale(locale.LC_ALL, 'pt_BR.UTF-8')\n",
    "    pieces = []\n",
    "    result = None\n",
    "    for file in glob.glob(files_path, recursive=True):\n",
    "        periodo = pd.read_csv(file, encoding='iso8859-1', skiprows=2, nrows=1)\n",
    "        mes_ano = periodo.columns.values[0].split(':')[1]\n",
    "        mes, ano = mes_ano.split('/')\n",
    "        ano = ano.replace(';','')\n",
    "        frame = pd.read_csv(file, encoding='iso8859-1', skiprows=3, sep=';', skipfooter=7, engine='python')\n",
    "        frame['mes'] = mes\n",
    "        frame['ano'] = ano\n",
    "        frame['mes_ano'] = datetime.date(year=int(ano), month=strptime(mes,'%b').tm_mon, day=1)\n",
    "        frame['cod_ibge6'] = frame['Município'].apply(lambda x: x.split(' ')[0]) \n",
    "        frame['Município'] = frame['Município'].apply(lambda x: ' '.join(x.split(' ')[1:])) \n",
    "        pieces.append(frame)\n",
    "    # Concatena tudo num único DataFrame\n",
    "    result = pd.concat(pieces, ignore_index=True)\n",
    "    \n",
    "    return result\n",
    "    ### END SOLUTION\n"
   ]
  },
  {
   "cell_type": "code",
   "execution_count": 14,
   "metadata": {},
   "outputs": [
    {
     "name": "stdout",
     "output_type": "stream",
     "text": [
      "['../data/originais/morbidade/desagregado\\\\2019\\\\A002344189_28_143_208.csv', '../data/originais/morbidade/desagregado\\\\2019\\\\A212356189_28_143_208.csv', '../data/originais/morbidade/desagregado\\\\2019\\\\A212407189_28_143_208.csv', '../data/originais/morbidade/desagregado\\\\2020\\\\A002126189_28_143_208.csv', '../data/originais/morbidade/desagregado\\\\2020\\\\A102654189_28_143_208.csv', '../data/originais/morbidade/desagregado\\\\2020\\\\A102744189_28_143_208.csv', '../data/originais/morbidade/desagregado\\\\2020\\\\A102812189_28_143_208.csv', '../data/originais/morbidade/desagregado\\\\2020\\\\A102850189_28_143_208.csv', '../data/originais/morbidade/desagregado\\\\2020\\\\A102927189_28_143_208.csv', '../data/originais/morbidade/desagregado\\\\2020\\\\A103139189_28_143_208.csv', '../data/originais/morbidade/desagregado\\\\2020\\\\A103238189_28_143_208.csv', '../data/originais/morbidade/desagregado\\\\2020\\\\A212148189_28_143_208.csv', '../data/originais/morbidade/desagregado\\\\2020\\\\A212323189_28_143_208.csv', '../data/originais/morbidade/desagregado\\\\2020\\\\A212334189_28_143_208.csv', '../data/originais/morbidade/desagregado\\\\2020\\\\A212345189_28_143_208.csv', '../data/originais/morbidade/desagregado\\\\2021\\\\A152003189_28_143_208.csv', '../data/originais/morbidade/desagregado\\\\2021\\\\A152053189_28_143_208.csv', '../data/originais/morbidade/desagregado\\\\2021\\\\A152118189_28_143_208.csv', '../data/originais/morbidade/desagregado\\\\2021\\\\A152142189_28_143_208.csv', '../data/originais/morbidade/desagregado\\\\2021\\\\A152222189_28_143_208.csv']\n"
     ]
    }
   ],
   "source": [
    "## Faça seus testes aqui\n",
    "import glob\n",
    "import pandas as pd\n",
    "from time import strptime\n",
    "import datetime\n",
    "import locale\n",
    "locale.setlocale(locale.LC_ALL, 'pt_BR.UTF-8')\n",
    "files_path = '../data/originais/morbidade/desagregado/**/*.csv'\n",
    "lista = glob.glob(files_path)\n",
    "print(lista)\n",
    "# df = pd.read_csv(lista[0], encoding='iso8859-1', sep=\";\", skiprows=2, nrows=1)\n",
    "# frame = pd.read_csv(lista[0], encoding='iso8859-1', skiprows=3, sep=';', skipfooter=7, engine='python')\n",
    "# frame['cod_ibge6'] = frame['Município'].str.split(' ')[0]\n",
    "# frame.head()\n"
   ]
  },
  {
   "cell_type": "code",
   "execution_count": null,
   "metadata": {},
   "outputs": [],
   "source": []
  },
  {
   "cell_type": "code",
   "execution_count": 15,
   "metadata": {
    "nbgrader": {
     "grade": true,
     "grade_id": "cell-9ffdsa88d58e9282a",
     "locked": true,
     "points": 1,
     "schema_version": 3,
     "solution": false,
     "task": false
    }
   },
   "outputs": [],
   "source": [
    "# Validação para nota\n",
    "files_path = '../data/originais/morbidade/desagregado/**/*.csv'\n",
    "test_data = set(['10899,59', '16793,57', '6585,96', '7446,97', '19054,46', '11462,34'])\n",
    "morbidade = concat_morbidade(files_path)\n"
   ]
  },
  {
   "cell_type": "code",
   "execution_count": 17,
   "metadata": {},
   "outputs": [],
   "source": [
    "morbidade.head()\n",
    "morbidade.to_csv(\"../data/originais/morbidade/consolidado/consolidado.csv\", index=False)"
   ]
  },
  {
   "cell_type": "code",
   "execution_count": 18,
   "metadata": {},
   "outputs": [
    {
     "name": "stdout",
     "output_type": "stream",
     "text": [
      "<class 'pandas.core.frame.DataFrame'>\n",
      "RangeIndex: 96711 entries, 0 to 96710\n",
      "Data columns (total 21 columns):\n",
      " #   Column                         Non-Null Count  Dtype  \n",
      "---  ------                         --------------  -----  \n",
      " 0   Município                      96711 non-null  object \n",
      " 1   Internações                    96711 non-null  object \n",
      " 2   AIH_aprovadas                  96711 non-null  int64  \n",
      " 3   Valor_total                    96711 non-null  object \n",
      " 4   Valor_serviços_hospitalares    96711 non-null  object \n",
      " 5   Val_serv_hosp_-_compl_federal  96711 non-null  object \n",
      " 6   Val_serv_hosp_-_compl_gestor   96711 non-null  object \n",
      " 7   Valor_serviços_profissionais   96711 non-null  object \n",
      " 8   Val_serv_prof_-_compl_federal  96711 non-null  object \n",
      " 9   Val_serv_prof_-_compl_gestor   96711 non-null  object \n",
      " 10  Valor_médio_AIH                96711 non-null  object \n",
      " 11  Valor_médio_intern             96711 non-null  object \n",
      " 12  Dias_permanência               96711 non-null  object \n",
      " 13  Média_permanência              96711 non-null  object \n",
      " 14  Óbitos                         96711 non-null  object \n",
      " 15  Taxa_mortalidade               96711 non-null  object \n",
      " 16  mes                            96711 non-null  object \n",
      " 17  ano                            96711 non-null  object \n",
      " 18  mes_ano                        96711 non-null  object \n",
      " 19  cod_ibge6                      96711 non-null  object \n",
      " 20  Data                           0 non-null      float64\n",
      "dtypes: float64(1), int64(1), object(19)\n",
      "memory usage: 15.5+ MB\n"
     ]
    }
   ],
   "source": [
    "morbidade.info()"
   ]
  },
  {
   "cell_type": "code",
   "execution_count": null,
   "metadata": {},
   "outputs": [],
   "source": []
  }
 ],
 "metadata": {
  "celltoolbar": "Create Assignment",
  "kernelspec": {
   "display_name": "Python 3",
   "language": "python",
   "name": "python3"
  },
  "language_info": {
   "codemirror_mode": {
    "name": "ipython",
    "version": 3
   },
   "file_extension": ".py",
   "mimetype": "text/x-python",
   "name": "python",
   "nbconvert_exporter": "python",
   "pygments_lexer": "ipython3",
   "version": "3.8.3"
  },
  "varInspector": {
   "cols": {
    "lenName": 16,
    "lenType": 16,
    "lenVar": 40
   },
   "kernels_config": {
    "python": {
     "delete_cmd_postfix": "",
     "delete_cmd_prefix": "del ",
     "library": "var_list.py",
     "varRefreshCmd": "print(var_dic_list())"
    },
    "r": {
     "delete_cmd_postfix": ") ",
     "delete_cmd_prefix": "rm(",
     "library": "var_list.r",
     "varRefreshCmd": "cat(var_dic_list()) "
    }
   },
   "types_to_exclude": [
    "module",
    "function",
    "builtin_function_or_method",
    "instance",
    "_Feature"
   ],
   "window_display": false
  }
 },
 "nbformat": 4,
 "nbformat_minor": 4
}
